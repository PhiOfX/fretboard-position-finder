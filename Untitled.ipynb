{
 "cells": [
  {
   "cell_type": "code",
   "execution_count": 1,
   "metadata": {},
   "outputs": [],
   "source": [
    "from positionfinder.models_chords import ChordNotes, ChordPosition\n"
   ]
  },
  {
   "cell_type": "code",
   "execution_count": 2,
   "metadata": {},
   "outputs": [
    {
     "ename": "MultipleObjectsReturned",
     "evalue": "get() returned more than one ChordNotes -- it returned 3!",
     "output_type": "error",
     "traceback": [
      "\u001b[0;31m---------------------------------------------------------------------------\u001b[0m",
      "\u001b[0;31mMultipleObjectsReturned\u001b[0m                   Traceback (most recent call last)",
      "\u001b[0;32m<ipython-input-2-0652318ba39b>\u001b[0m in \u001b[0;36m<module>\u001b[0;34m\u001b[0m\n\u001b[0;32m----> 1\u001b[0;31m \u001b[0mmajor_7\u001b[0m \u001b[0;34m=\u001b[0m \u001b[0mChordNotes\u001b[0m\u001b[0;34m.\u001b[0m\u001b[0mobjects\u001b[0m\u001b[0;34m.\u001b[0m\u001b[0mget\u001b[0m\u001b[0;34m(\u001b[0m\u001b[0mchord_name\u001b[0m\u001b[0;34m=\u001b[0m\u001b[0;34m\"Major 7\"\u001b[0m\u001b[0;34m,\u001b[0m \u001b[0mtype_name\u001b[0m\u001b[0;34m=\u001b[0m\u001b[0;34m\"V2\"\u001b[0m\u001b[0;34m)\u001b[0m\u001b[0;34m\u001b[0m\u001b[0;34m\u001b[0m\u001b[0m\n\u001b[0m",
      "\u001b[0;32m/anaconda3/envs/fretboard/lib/python3.7/site-packages/django/db/models/manager.py\u001b[0m in \u001b[0;36mmanager_method\u001b[0;34m(self, *args, **kwargs)\u001b[0m\n\u001b[1;32m     80\u001b[0m         \u001b[0;32mdef\u001b[0m \u001b[0mcreate_method\u001b[0m\u001b[0;34m(\u001b[0m\u001b[0mname\u001b[0m\u001b[0;34m,\u001b[0m \u001b[0mmethod\u001b[0m\u001b[0;34m)\u001b[0m\u001b[0;34m:\u001b[0m\u001b[0;34m\u001b[0m\u001b[0;34m\u001b[0m\u001b[0m\n\u001b[1;32m     81\u001b[0m             \u001b[0;32mdef\u001b[0m \u001b[0mmanager_method\u001b[0m\u001b[0;34m(\u001b[0m\u001b[0mself\u001b[0m\u001b[0;34m,\u001b[0m \u001b[0;34m*\u001b[0m\u001b[0margs\u001b[0m\u001b[0;34m,\u001b[0m \u001b[0;34m**\u001b[0m\u001b[0mkwargs\u001b[0m\u001b[0;34m)\u001b[0m\u001b[0;34m:\u001b[0m\u001b[0;34m\u001b[0m\u001b[0;34m\u001b[0m\u001b[0m\n\u001b[0;32m---> 82\u001b[0;31m                 \u001b[0;32mreturn\u001b[0m \u001b[0mgetattr\u001b[0m\u001b[0;34m(\u001b[0m\u001b[0mself\u001b[0m\u001b[0;34m.\u001b[0m\u001b[0mget_queryset\u001b[0m\u001b[0;34m(\u001b[0m\u001b[0;34m)\u001b[0m\u001b[0;34m,\u001b[0m \u001b[0mname\u001b[0m\u001b[0;34m)\u001b[0m\u001b[0;34m(\u001b[0m\u001b[0;34m*\u001b[0m\u001b[0margs\u001b[0m\u001b[0;34m,\u001b[0m \u001b[0;34m**\u001b[0m\u001b[0mkwargs\u001b[0m\u001b[0;34m)\u001b[0m\u001b[0;34m\u001b[0m\u001b[0;34m\u001b[0m\u001b[0m\n\u001b[0m\u001b[1;32m     83\u001b[0m             \u001b[0mmanager_method\u001b[0m\u001b[0;34m.\u001b[0m\u001b[0m__name__\u001b[0m \u001b[0;34m=\u001b[0m \u001b[0mmethod\u001b[0m\u001b[0;34m.\u001b[0m\u001b[0m__name__\u001b[0m\u001b[0;34m\u001b[0m\u001b[0;34m\u001b[0m\u001b[0m\n\u001b[1;32m     84\u001b[0m             \u001b[0mmanager_method\u001b[0m\u001b[0;34m.\u001b[0m\u001b[0m__doc__\u001b[0m \u001b[0;34m=\u001b[0m \u001b[0mmethod\u001b[0m\u001b[0;34m.\u001b[0m\u001b[0m__doc__\u001b[0m\u001b[0;34m\u001b[0m\u001b[0;34m\u001b[0m\u001b[0m\n",
      "\u001b[0;32m/anaconda3/envs/fretboard/lib/python3.7/site-packages/django/db/models/query.py\u001b[0m in \u001b[0;36mget\u001b[0;34m(self, *args, **kwargs)\u001b[0m\n\u001b[1;32m    410\u001b[0m         raise self.model.MultipleObjectsReturned(\n\u001b[1;32m    411\u001b[0m             \u001b[0;34m\"get() returned more than one %s -- it returned %s!\"\u001b[0m \u001b[0;34m%\u001b[0m\u001b[0;34m\u001b[0m\u001b[0;34m\u001b[0m\u001b[0m\n\u001b[0;32m--> 412\u001b[0;31m             \u001b[0;34m(\u001b[0m\u001b[0mself\u001b[0m\u001b[0;34m.\u001b[0m\u001b[0mmodel\u001b[0m\u001b[0;34m.\u001b[0m\u001b[0m_meta\u001b[0m\u001b[0;34m.\u001b[0m\u001b[0mobject_name\u001b[0m\u001b[0;34m,\u001b[0m \u001b[0mnum\u001b[0m\u001b[0;34m)\u001b[0m\u001b[0;34m\u001b[0m\u001b[0;34m\u001b[0m\u001b[0m\n\u001b[0m\u001b[1;32m    413\u001b[0m         )\n\u001b[1;32m    414\u001b[0m \u001b[0;34m\u001b[0m\u001b[0m\n",
      "\u001b[0;31mMultipleObjectsReturned\u001b[0m: get() returned more than one ChordNotes -- it returned 3!"
     ]
    }
   ],
   "source": [
    "major_7 = ChordNotes.objects.get(chord_name=\"Major 7\", type_name=\"V2\")"
   ]
  },
  {
   "cell_type": "code",
   "execution_count": 3,
   "metadata": {},
   "outputs": [
    {
     "ename": "NameError",
     "evalue": "name 'major_7' is not defined",
     "output_type": "error",
     "traceback": [
      "\u001b[0;31m---------------------------------------------------------------------------\u001b[0m",
      "\u001b[0;31mNameError\u001b[0m                                 Traceback (most recent call last)",
      "\u001b[0;32m<ipython-input-3-2453963ad101>\u001b[0m in \u001b[0;36m<module>\u001b[0;34m\u001b[0m\n\u001b[0;32m----> 1\u001b[0;31m \u001b[0mprint\u001b[0m\u001b[0;34m(\u001b[0m\u001b[0mmajor_7\u001b[0m\u001b[0;34m.\u001b[0m\u001b[0mid\u001b[0m\u001b[0;34m)\u001b[0m\u001b[0;34m\u001b[0m\u001b[0;34m\u001b[0m\u001b[0m\n\u001b[0m",
      "\u001b[0;31mNameError\u001b[0m: name 'major_7' is not defined"
     ]
    }
   ],
   "source": [
    "print(major_7.id)"
   ]
  },
  {
   "cell_type": "code",
   "execution_count": 4,
   "metadata": {},
   "outputs": [],
   "source": [
    "def create_fourthnote_positions(w,x,y,z,id):\n",
    "    #First Inversion\n",
    "    ChordPosition.objects.create(notes_name_id=chord.id,\n",
    "                                            inversion_order='First Inversion',\n",
    "                                            first_note=w,\n",
    "                                            second_note=x,\n",
    "                                            third_note=y,\n",
    "                                            fourth_note=z,)\n",
    "    #Second Inversion\n",
    "    ChordPosition.objects.create(notes_name_id=chord.id,\n",
    "                                            inversion_order='Second Inversion',\n",
    "                                            first_note=w+x,\n",
    "                                            second_note=x+y,\n",
    "                                            third_note=y+z,\n",
    "                                            fourth_note=z+w,)\n",
    "    #Third Inversion\n",
    "    ChordPosition.objects.create(notes_name_id=chord.id,\n",
    "                                            inversion_order='Second Inversion',\n",
    "                                            first_note=w+x+y,\n",
    "                                            second_note=x+y+z,\n",
    "                                            third_note=y+z+w,\n",
    "                                            fourth_note=z+w+x,)        \n",
    "\n",
    "    \n",
    "def create_inversions(id):\n",
    "    chord = ChordNotes.objects.get(id=id)\n",
    "    ### Check If Four-Note-Chord-Voicing\n",
    "    if not None in (chord.first_note, chord.second_note, chord.third_note, chord.fourth_note) and chord.fifth_note is None:\n",
    "        id = chord.id\n",
    "        w = chord.second_note - chord.first_note\n",
    "        while w < 0:\n",
    "            w += 12\n",
    "        x = chord.third_note - chord.second_note\n",
    "        while x < 0:\n",
    "            x += 12\n",
    "        y = chord.fourth_note - chord.third_note\n",
    "        while y < 0:\n",
    "            y += 12\n",
    "        z = chord.first_note - chord.fourth_note\n",
    "        while z < 0:\n",
    "            z += 12\n",
    "        create_fourthnote_positions(w,x,y,z,id)"
   ]
  },
  {
   "cell_type": "raw",
   "metadata": {},
   "source": []
  },
  {
   "cell_type": "code",
   "execution_count": 5,
   "metadata": {},
   "outputs": [
    {
     "ename": "NameError",
     "evalue": "name 'create_fourthnote_inversions' is not defined",
     "output_type": "error",
     "traceback": [
      "\u001b[0;31m---------------------------------------------------------------------------\u001b[0m",
      "\u001b[0;31mNameError\u001b[0m                                 Traceback (most recent call last)",
      "\u001b[0;32m<ipython-input-5-f90cc19f0228>\u001b[0m in \u001b[0;36m<module>\u001b[0;34m\u001b[0m\n\u001b[0;32m----> 1\u001b[0;31m \u001b[0mcreate_fourthnote_inversions\u001b[0m\u001b[0;34m(\u001b[0m\u001b[0;34m)\u001b[0m\u001b[0;34m\u001b[0m\u001b[0;34m\u001b[0m\u001b[0m\n\u001b[0m",
      "\u001b[0;31mNameError\u001b[0m: name 'create_fourthnote_inversions' is not defined"
     ]
    }
   ],
   "source": [
    "create_fourthnote_inversions()"
   ]
  },
  {
   "cell_type": "code",
   "execution_count": 6,
   "metadata": {},
   "outputs": [
    {
     "ename": "DoesNotExist",
     "evalue": "ChordNotes matching query does not exist.",
     "output_type": "error",
     "traceback": [
      "\u001b[0;31m---------------------------------------------------------------------------\u001b[0m",
      "\u001b[0;31mDoesNotExist\u001b[0m                              Traceback (most recent call last)",
      "\u001b[0;32m<ipython-input-6-3b311aec5c51>\u001b[0m in \u001b[0;36m<module>\u001b[0;34m\u001b[0m\n\u001b[0;32m----> 1\u001b[0;31m \u001b[0mchord\u001b[0m \u001b[0;34m=\u001b[0m \u001b[0mChordNotes\u001b[0m\u001b[0;34m.\u001b[0m\u001b[0mobjects\u001b[0m\u001b[0;34m.\u001b[0m\u001b[0mget\u001b[0m\u001b[0;34m(\u001b[0m\u001b[0mid\u001b[0m\u001b[0;34m=\u001b[0m\u001b[0;36m1\u001b[0m\u001b[0;34m)\u001b[0m\u001b[0;34m\u001b[0m\u001b[0;34m\u001b[0m\u001b[0m\n\u001b[0m",
      "\u001b[0;32m/anaconda3/envs/fretboard/lib/python3.7/site-packages/django/db/models/manager.py\u001b[0m in \u001b[0;36mmanager_method\u001b[0;34m(self, *args, **kwargs)\u001b[0m\n\u001b[1;32m     80\u001b[0m         \u001b[0;32mdef\u001b[0m \u001b[0mcreate_method\u001b[0m\u001b[0;34m(\u001b[0m\u001b[0mname\u001b[0m\u001b[0;34m,\u001b[0m \u001b[0mmethod\u001b[0m\u001b[0;34m)\u001b[0m\u001b[0;34m:\u001b[0m\u001b[0;34m\u001b[0m\u001b[0;34m\u001b[0m\u001b[0m\n\u001b[1;32m     81\u001b[0m             \u001b[0;32mdef\u001b[0m \u001b[0mmanager_method\u001b[0m\u001b[0;34m(\u001b[0m\u001b[0mself\u001b[0m\u001b[0;34m,\u001b[0m \u001b[0;34m*\u001b[0m\u001b[0margs\u001b[0m\u001b[0;34m,\u001b[0m \u001b[0;34m**\u001b[0m\u001b[0mkwargs\u001b[0m\u001b[0;34m)\u001b[0m\u001b[0;34m:\u001b[0m\u001b[0;34m\u001b[0m\u001b[0;34m\u001b[0m\u001b[0m\n\u001b[0;32m---> 82\u001b[0;31m                 \u001b[0;32mreturn\u001b[0m \u001b[0mgetattr\u001b[0m\u001b[0;34m(\u001b[0m\u001b[0mself\u001b[0m\u001b[0;34m.\u001b[0m\u001b[0mget_queryset\u001b[0m\u001b[0;34m(\u001b[0m\u001b[0;34m)\u001b[0m\u001b[0;34m,\u001b[0m \u001b[0mname\u001b[0m\u001b[0;34m)\u001b[0m\u001b[0;34m(\u001b[0m\u001b[0;34m*\u001b[0m\u001b[0margs\u001b[0m\u001b[0;34m,\u001b[0m \u001b[0;34m**\u001b[0m\u001b[0mkwargs\u001b[0m\u001b[0;34m)\u001b[0m\u001b[0;34m\u001b[0m\u001b[0;34m\u001b[0m\u001b[0m\n\u001b[0m\u001b[1;32m     83\u001b[0m             \u001b[0mmanager_method\u001b[0m\u001b[0;34m.\u001b[0m\u001b[0m__name__\u001b[0m \u001b[0;34m=\u001b[0m \u001b[0mmethod\u001b[0m\u001b[0;34m.\u001b[0m\u001b[0m__name__\u001b[0m\u001b[0;34m\u001b[0m\u001b[0;34m\u001b[0m\u001b[0m\n\u001b[1;32m     84\u001b[0m             \u001b[0mmanager_method\u001b[0m\u001b[0;34m.\u001b[0m\u001b[0m__doc__\u001b[0m \u001b[0;34m=\u001b[0m \u001b[0mmethod\u001b[0m\u001b[0;34m.\u001b[0m\u001b[0m__doc__\u001b[0m\u001b[0;34m\u001b[0m\u001b[0;34m\u001b[0m\u001b[0m\n",
      "\u001b[0;32m/anaconda3/envs/fretboard/lib/python3.7/site-packages/django/db/models/query.py\u001b[0m in \u001b[0;36mget\u001b[0;34m(self, *args, **kwargs)\u001b[0m\n\u001b[1;32m    406\u001b[0m             raise self.model.DoesNotExist(\n\u001b[1;32m    407\u001b[0m                 \u001b[0;34m\"%s matching query does not exist.\"\u001b[0m \u001b[0;34m%\u001b[0m\u001b[0;34m\u001b[0m\u001b[0;34m\u001b[0m\u001b[0m\n\u001b[0;32m--> 408\u001b[0;31m                 \u001b[0mself\u001b[0m\u001b[0;34m.\u001b[0m\u001b[0mmodel\u001b[0m\u001b[0;34m.\u001b[0m\u001b[0m_meta\u001b[0m\u001b[0;34m.\u001b[0m\u001b[0mobject_name\u001b[0m\u001b[0;34m\u001b[0m\u001b[0;34m\u001b[0m\u001b[0m\n\u001b[0m\u001b[1;32m    409\u001b[0m             )\n\u001b[1;32m    410\u001b[0m         raise self.model.MultipleObjectsReturned(\n",
      "\u001b[0;31mDoesNotExist\u001b[0m: ChordNotes matching query does not exist."
     ]
    }
   ],
   "source": [
    "chord = ChordNotes.objects.get(id=1)"
   ]
  },
  {
   "cell_type": "code",
   "execution_count": 7,
   "metadata": {},
   "outputs": [
    {
     "ename": "NameError",
     "evalue": "name 'chord' is not defined",
     "output_type": "error",
     "traceback": [
      "\u001b[0;31m---------------------------------------------------------------------------\u001b[0m",
      "\u001b[0;31mNameError\u001b[0m                                 Traceback (most recent call last)",
      "\u001b[0;32m<ipython-input-7-3db912d0524e>\u001b[0m in \u001b[0;36m<module>\u001b[0;34m\u001b[0m\n\u001b[0;32m----> 1\u001b[0;31m \u001b[0mprint\u001b[0m\u001b[0;34m(\u001b[0m\u001b[0mchord\u001b[0m\u001b[0;34m.\u001b[0m\u001b[0mfifth_note\u001b[0m\u001b[0;34m)\u001b[0m\u001b[0;34m\u001b[0m\u001b[0;34m\u001b[0m\u001b[0m\n\u001b[0m",
      "\u001b[0;31mNameError\u001b[0m: name 'chord' is not defined"
     ]
    }
   ],
   "source": [
    "print(chord.fifth_note)"
   ]
  },
  {
   "cell_type": "code",
   "execution_count": 8,
   "metadata": {},
   "outputs": [
    {
     "ename": "NameError",
     "evalue": "name 'chord' is not defined",
     "output_type": "error",
     "traceback": [
      "\u001b[0;31m---------------------------------------------------------------------------\u001b[0m",
      "\u001b[0;31mNameError\u001b[0m                                 Traceback (most recent call last)",
      "\u001b[0;32m<ipython-input-8-add3864aa070>\u001b[0m in \u001b[0;36m<module>\u001b[0;34m\u001b[0m\n\u001b[0;32m----> 1\u001b[0;31m \u001b[0;32mif\u001b[0m \u001b[0;32mnot\u001b[0m \u001b[0;32mNone\u001b[0m \u001b[0;32min\u001b[0m \u001b[0;34m(\u001b[0m\u001b[0mchord\u001b[0m\u001b[0;34m.\u001b[0m\u001b[0mfirst_note\u001b[0m\u001b[0;34m,\u001b[0m \u001b[0mchord\u001b[0m\u001b[0;34m.\u001b[0m\u001b[0msecond_note\u001b[0m\u001b[0;34m,\u001b[0m \u001b[0mchord\u001b[0m\u001b[0;34m.\u001b[0m\u001b[0mthird_note\u001b[0m\u001b[0;34m,\u001b[0m \u001b[0mchord\u001b[0m\u001b[0;34m.\u001b[0m\u001b[0mfourth_note\u001b[0m\u001b[0;34m)\u001b[0m \u001b[0;32mand\u001b[0m \u001b[0mchord\u001b[0m\u001b[0;34m.\u001b[0m\u001b[0mfifth_note\u001b[0m \u001b[0;32mis\u001b[0m \u001b[0;32mNone\u001b[0m\u001b[0;34m:\u001b[0m\u001b[0;34m\u001b[0m\u001b[0;34m\u001b[0m\u001b[0m\n\u001b[0m\u001b[1;32m      2\u001b[0m     \u001b[0mprint\u001b[0m\u001b[0;34m(\u001b[0m\u001b[0;34m'True'\u001b[0m\u001b[0;34m)\u001b[0m\u001b[0;34m\u001b[0m\u001b[0;34m\u001b[0m\u001b[0m\n\u001b[1;32m      3\u001b[0m \u001b[0;32melse\u001b[0m\u001b[0;34m:\u001b[0m\u001b[0;34m\u001b[0m\u001b[0;34m\u001b[0m\u001b[0m\n\u001b[1;32m      4\u001b[0m     \u001b[0mprint\u001b[0m\u001b[0;34m(\u001b[0m\u001b[0;34m'NOT'\u001b[0m\u001b[0;34m)\u001b[0m\u001b[0;34m\u001b[0m\u001b[0;34m\u001b[0m\u001b[0m\n",
      "\u001b[0;31mNameError\u001b[0m: name 'chord' is not defined"
     ]
    }
   ],
   "source": [
    "if not None in (chord.first_note, chord.second_note, chord.third_note, chord.fourth_note) and chord.fifth_note is None:\n",
    "    print('True')\n",
    "else:\n",
    "    print('NOT')"
   ]
  },
  {
   "cell_type": "code",
   "execution_count": 9,
   "metadata": {},
   "outputs": [],
   "source": [
    "from positionfinder.models_chords import ChordNotes, ChordPosition\n",
    "from positionfinder.template_notes import NOTES, NOTES_SHARP, TENSIONS, INVERSIONS, SHARP_NOTES\n",
    "from positionfinder.template_notes import STRING_NOTE_OPTIONS\n",
    "import numpy\n",
    "\n",
    "def get_position_dict(chord_inversion, chord_name, range, type_name, root_pitch, tonal_root, selected_root_name):\n",
    "    x = INVERSIONS.index(chord_inversion)\n",
    "\n",
    "    chord_note = ChordNotes.objects.get(chord_name=chord_name, range=range, type_name=type_name)\n",
    "    chord_notes_position = ChordPosition.objects.filter(notes_name_id=chord_note.id)\n",
    "\n",
    "    INVERSION_DICT = {}\n",
    "    POSITION_DICT = {}\n",
    "\n",
    "    CHORD_NOTES = [chord_note.first_note, chord_note.second_note,\n",
    "                   chord_note.third_note, chord_note.fourth_note,\n",
    "                   chord_note.fifth_note, chord_note.sixth_note]\n",
    "\n",
    "    CHORD_NOTES_STRING = [chord_note.first_note_string, chord_note.second_note_string,\n",
    "                          chord_note.third_note_string, chord_note.fourth_note_string,\n",
    "                          chord_note.fifth_note_string, chord_note.sixth_note_string]\n",
    "\n",
    "    CHORD_NOTES_POSITION = [chord_notes_position[x].first_note, chord_notes_position[x].second_note,\n",
    "                           chord_notes_position[x].third_note, chord_notes_position[x].fourth_note,\n",
    "                           chord_notes_position[x].fifth_note, chord_notes_position[x].sixth_note]\n",
    "\n",
    "\n",
    "    index = 0\n",
    "\n",
    "    tonal_root = tonal_root + root_pitch\n",
    "\n",
    "    fret_distance = []\n",
    "    for y in CHORD_NOTES:\n",
    "        if y is not None:\n",
    "            chord_note_index = y + root_pitch + CHORD_NOTES_POSITION[index]\n",
    "            while chord_note_index >= 12:\n",
    "                chord_note_index -= 12\n",
    "            if tonal_root in SHARP_NOTES or '#' in selected_root_name:\n",
    "                chord_note_name = NOTES_SHARP[chord_note_index]\n",
    "            else:\n",
    "                chord_note_name = NOTES[chord_note_index]\n",
    "\n",
    "            chord_note_string = CHORD_NOTES_STRING[index]\n",
    "            print(chord_note_string)\n",
    "            print(chord_note_name)\n",
    "            chord_note_fret = STRING_NOTE_OPTIONS[chord_note_string][0][chord_note_name][0][\"fret\"][0]\n",
    "            fret_distance.append(chord_note_fret)\n",
    "            index += 1\n",
    "\n",
    "    v = numpy.diff(fret_distance)\n",
    "    v = [abs(x) for x in v]\n",
    "\n",
    "    index = 0\n",
    "    if any(abs(element) >= 6 for element in v):\n",
    "        for y in CHORD_NOTES:\n",
    "            if y is not None:\n",
    "                chord_note_index = y + root_pitch + CHORD_NOTES_POSITION[index]\n",
    "                while chord_note_index >= 12:\n",
    "                    chord_note_index -= 12\n",
    "                if tonal_root in SHARP_NOTES or '#' in selected_root_name:\n",
    "                    chord_note_name = NOTES_SHARP[chord_note_index]\n",
    "                else:\n",
    "                    chord_note_name = NOTES[chord_note_index]\n",
    "                chord_note_string = CHORD_NOTES_STRING[index]\n",
    "                try :\n",
    "                    chord_note_name = STRING_NOTE_OPTIONS[chord_note_string][0][chord_note_name][0][\"tone\"][1]\n",
    "                except IndexError:\n",
    "                    chord_note_name = STRING_NOTE_OPTIONS[chord_note_string][0][chord_note_name][0][\"tone\"][0]\n",
    "                chord_note_tension_index = y + CHORD_NOTES_POSITION[index]\n",
    "                while chord_note_tension_index >= 12:\n",
    "                    chord_note_tension_index = chord_note_tension_index - 12\n",
    "                chord_note_tension = TENSIONS[chord_note_tension_index]\n",
    "                POSITION_DICT[chord_note_string] = [chord_note_name, chord_note_tension]\n",
    "                index += 1\n",
    "\n",
    "        return POSITION_DICT\n",
    "\n",
    "    else:\n",
    "        for y in CHORD_NOTES:\n",
    "            if y is not None:\n",
    "                chord_note_index = y + root_pitch + CHORD_NOTES_POSITION[index]\n",
    "                while chord_note_index >= 12:\n",
    "                    chord_note_index = chord_note_index - 12\n",
    "                if tonal_root in SHARP_NOTES or '#' in selected_root_name:\n",
    "                    chord_note_name = NOTES_SHARP[chord_note_index]\n",
    "                else:\n",
    "                    chord_note_name = NOTES[chord_note_index]\n",
    "                chord_note_string = CHORD_NOTES_STRING[index]\n",
    "                chord_note_name = STRING_NOTE_OPTIONS[chord_note_string][0][chord_note_name][0][\"tone\"][0]\n",
    "                chord_note_tension_index = y + CHORD_NOTES_POSITION[index]\n",
    "                while chord_note_tension_index >= 12:\n",
    "                    chord_note_tension_index -= 12\n",
    "                chord_note_tension = TENSIONS[chord_note_tension_index]\n",
    "                POSITION_DICT[chord_note_string] = [chord_note_name, chord_note_tension]\n",
    "                index += 1\n",
    "\n",
    "        return POSITION_DICT\n"
   ]
  },
  {
   "cell_type": "code",
   "execution_count": 10,
   "metadata": {},
   "outputs": [
    {
     "name": "stdout",
     "output_type": "stream",
     "text": [
      "bString\n",
      "c\n",
      "gString\n",
      "e\n",
      "dString\n",
      "g\n",
      "AString\n",
      "b\n"
     ]
    }
   ],
   "source": [
    "x = get_position_dict('Basic Position', 'Major 7', 'b - A', 'V2', 0, 0, 'C')"
   ]
  },
  {
   "cell_type": "code",
   "execution_count": 11,
   "metadata": {},
   "outputs": [
    {
     "name": "stdout",
     "output_type": "stream",
     "text": [
      "{'bString': ['c3', 'R'], 'gString': ['e2', '3'], 'dString': ['g2', '5'], 'AString': ['b1', '7']}\n"
     ]
    }
   ],
   "source": [
    "print(x)"
   ]
  },
  {
   "cell_type": "code",
   "execution_count": 142,
   "metadata": {},
   "outputs": [
    {
     "name": "stdout",
     "output_type": "stream",
     "text": [
      "{\"chord\": \"Major 7\", \"type\": \"V2\", \"root\": [\"c4\", \"c-1\", \"c0\", \"c1\", \"c2\", \"c3\"], \"e - d\": {\"Basic Position\": [{\"dString\": [\"c2\", \"R\"], \"eString\": [\"e3\", \"3\"], \"gString\": [\"g2\", \"5\"], \"bString\": [\"b2\", \"7\"]}], \"First Inversion\": [{\"dString\": [\"c2\", \"R\"], \"eString\": [\"e3\", \"3\"], \"gString\": [\"g2\", \"5\"], \"bString\": [\"b2\", \"7\"]}], \"Second Inversion\": [{\"dString\": [\"e1\", \"3\"], \"eString\": [\"g2\", \"5\"], \"gString\": [\"b1\", \"7\"], \"bString\": [\"c2\", \"R\"]}], \"Third Inversion\": [{\"dString\": [\"e1\", \"3\"], \"eString\": [\"g2\", \"5\"], \"gString\": [\"b1\", \"7\"], \"bString\": [\"c2\", \"R\"]}]}, \"b - A\": {\"Basic Position\": [{\"bString\": [\"c3\", \"R\"], \"gString\": [\"e2\", \"3\"], \"dString\": [\"g2\", \"5\"], \"AString\": [\"b1\", \"7\"]}], \"First Inversion\": [{\"bString\": [\"e3\", \"3\"], \"gString\": [\"g2\", \"5\"], \"dString\": [\"b1\", \"7\"], \"AString\": [\"c2\", \"R\"]}], \"Second Inversion\": [{\"bString\": [\"g2\", \"5\"], \"gString\": [\"b2\", \"7\"], \"dString\": [\"c2\", \"R\"], \"AString\": [\"e1\", \"3\"]}], \"Third Inversion\": [{\"bString\": [\"b2\", \"7\"], \"gString\": [\"c3\", \"R\"], \"dString\": [\"e2\", \"3\"], \"AString\": [\"g1\", \"5\"]}]}, \"g - E\": {\"Basic Position\": [{\"gString\": [\"c3\", \"R\"], \"dString\": [\"e2\", \"3\"], \"AString\": [\"g1\", \"5\"], \"ELowString\": [\"b0\", \"7\"]}], \"First Inversion\": [{\"gString\": [\"e2\", \"3\"], \"dString\": [\"g2\", \"5\"], \"AString\": [\"b1\", \"7\"], \"ELowString\": [\"c1\", \"R\"]}], \"Second Inversion\": [{\"gString\": [\"g2\", \"5\"], \"dString\": [\"b1\", \"7\"], \"AString\": [\"c2\", \"R\"], \"ELowString\": [\"e1\", \"3\"]}], \"Third Inversion\": [{\"gString\": [\"b2\", \"7\"], \"dString\": [\"c2\", \"R\"], \"AString\": [\"e1\", \"3\"], \"ELowString\": [\"g1\", \"5\"]}]}}\n"
     ]
    }
   ],
   "source": [
    "import json\n",
    "from django import forms\n",
    "from django.shortcuts import render, redirect\n",
    "\n",
    "from positionfinder.models import Root, NotesCategory\n",
    "from positionfinder.models_chords import ChordNotes, ChordPosition\n",
    "\n",
    "from django.utils.datastructures import MultiValueDictKeyError\n",
    "from django.core.exceptions import ObjectDoesNotExist\n",
    "\n",
    "from positionfinder.root_chord_note_setup import get_root_note\n",
    "from positionfinder.functionalty_chord_tones_setup import get_functionalty_note_names\n",
    "\n",
    "from positionfinder.get_position_dict_chords import get_position_dict\n",
    "\n",
    "\n",
    "category = NotesCategory.objects.all()\n",
    "'''\n",
    "Template Variables\n",
    "    '''\n",
    "selected_category = 3\n",
    "category_id = 3\n",
    "position_id = 0\n",
    "root_id = 1\n",
    "notes_options_id = ChordNotes.objects.all().first().id\n",
    "tonal_root = 0\n",
    "range = 'e - d'\n",
    "chord_select_name = 'Major 7'\n",
    "type_id = 'V2'\n",
    "\n",
    "# Getting Tonal Root from selected Chord Object\n",
    "tonal_root = ChordNotes.objects.get(chord_name=chord_select_name, type_name=type_id, range=range).tonal_root\n",
    "\n",
    "notes_options = ChordNotes.objects.filter(category=category_id)\n",
    "root_options = Root.objects.all()\n",
    "root_pitch = Root.objects.get(id=root_id).pitch\n",
    "selected_root_name = Root.objects.get(id=root_id).name\n",
    "selected_note_option = ChordNotes.objects.get(chord_name=chord_select_name, type_name=type_id, range=range)\n",
    "type_name = selected_note_option.type_name\n",
    "chord_name = selected_note_option.chord_name\n",
    "range_options = ChordNotes.objects.filter(type_name=type_name, chord_name=chord_name).values_list('range', flat=True).order_by('id')\n",
    "range_options = ChordNotes.objects.filter(type_name__in=[type_name], chord_name__in=[chord_name])\n",
    "type_options = ChordNotes.objects.all().values_list('type_name', flat=True).distinct()\n",
    "selected_category = int(category_id)\n",
    "notes_options_id = ChordNotes.objects.get(chord_name=chord_select_name, type_name=type_id, range=range).id\n",
    "position_options = ChordPosition.objects.filter(notes_name_id=notes_options_id)\n",
    "chord_options = ChordNotes.objects.all().values_list('chord_name', flat=True).distinct()\n",
    "\n",
    "    ## Creating List of available Root Pitches ##\n",
    "root = get_root_note(root_pitch, tonal_root, root_id)\n",
    "    ## Getting Chord Notes in chronological Order as a [list] ##\n",
    "note_names = get_functionalty_note_names(notes_options_id, root_pitch, tonal_root, root_id)\n",
    "chord_json_data = {\"chord\": selected_note_option.chord_name,\n",
    "                       \"type\": selected_note_option.type_name,\n",
    "                       \"root\": root}\n",
    "    # Creating for every String Range available Inversions #\n",
    "position_json_data = {}\n",
    "position_data = {}\n",
    "temp_data = {}\n",
    "range_data = {}\n",
    "\n",
    "\n",
    "for option in range_options:\n",
    "        temp_data = {}\n",
    "        range_data = {}\n",
    "\n",
    "        for position in position_options:\n",
    "            position_json_data = {position.inversion_order : [get_position_dict(position.inversion_order,\n",
    "                                                                              chord_name,\n",
    "                                                                              option.range,\n",
    "                                                                              type_name,\n",
    "                                                                              root_pitch,\n",
    "                                                                              tonal_root,\n",
    "                                                                              selected_root_name)]}\n",
    "            range_data[position.inversion_order] = position_json_data[position.inversion_order]\n",
    "\n",
    "            temp_data[option.range] = range_data\n",
    "        chord_json_data[option.range] = range_data\n",
    "        position_json_data = {}\n",
    "\n",
    "    \n",
    "chord_json_data = json.dumps(chord_json_data)\n",
    "print(chord_json_data)"
   ]
  },
  {
   "cell_type": "code",
   "execution_count": null,
   "metadata": {},
   "outputs": [],
   "source": []
  },
  {
   "cell_type": "code",
   "execution_count": null,
   "metadata": {},
   "outputs": [],
   "source": []
  }
 ],
 "metadata": {
  "kernelspec": {
   "display_name": "Django Shell-Plus",
   "language": "python",
   "name": "django_extensions"
  },
  "language_info": {
   "codemirror_mode": {
    "name": "ipython",
    "version": 3
   },
   "file_extension": ".py",
   "mimetype": "text/x-python",
   "name": "python",
   "nbconvert_exporter": "python",
   "pygments_lexer": "ipython3",
   "version": "3.7.3"
  }
 },
 "nbformat": 4,
 "nbformat_minor": 2
}
