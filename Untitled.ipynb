{
 "cells": [
  {
   "cell_type": "code",
   "execution_count": 1,
   "metadata": {},
   "outputs": [],
   "source": [
    "from positionfinder.models_chords import ChordNotes, ChordPosition\n"
   ]
  },
  {
   "cell_type": "code",
   "execution_count": 2,
   "metadata": {},
   "outputs": [],
   "source": [
    "major_7 = ChordNotes.objects.get(chord_name=\"Major 7\", type_name=\"V2\")"
   ]
  },
  {
   "cell_type": "code",
   "execution_count": 4,
   "metadata": {},
   "outputs": [
    {
     "name": "stdout",
     "output_type": "stream",
     "text": [
      "1\n"
     ]
    }
   ],
   "source": [
    "print(major_7.id)"
   ]
  },
  {
   "cell_type": "code",
   "execution_count": 26,
   "metadata": {},
   "outputs": [],
   "source": [
    "def create_fourthnote_positions(w,x,y,z,id):\n",
    "    #First Inversion\n",
    "    ChordPosition.objects.create(notes_name_id=chord.id,\n",
    "                                            inversion_order='First Inversion',\n",
    "                                            first_note=w,\n",
    "                                            second_note=x,\n",
    "                                            third_note=y,\n",
    "                                            fourth_note=z,)\n",
    "    #Second Inversion\n",
    "    ChordPosition.objects.create(notes_name_id=chord.id,\n",
    "                                            inversion_order='Second Inversion',\n",
    "                                            first_note=w+x,\n",
    "                                            second_note=x+y,\n",
    "                                            third_note=y+z,\n",
    "                                            fourth_note=z+w,)\n",
    "    #Third Inversion\n",
    "    ChordPosition.objects.create(notes_name_id=chord.id,\n",
    "                                            inversion_order='Second Inversion',\n",
    "                                            first_note=w+x+y,\n",
    "                                            second_note=x+y+z,\n",
    "                                            third_note=y+z+w,\n",
    "                                            fourth_note=z+w+x,)        \n",
    "\n",
    "    \n",
    "def create_inversions(id):\n",
    "    chord = ChordNotes.objects.get(id=id)\n",
    "    ### Check If Four-Note-Chord-Voicing\n",
    "    if not None in (chord.first_note, chord.second_note, chord.third_note, chord.fourth_note) and chord.fifth_note is None:\n",
    "        id = chord.id\n",
    "        w = chord.second_note - chord.first_note\n",
    "        while w < 0:\n",
    "            w += 12\n",
    "        x = chord.third_note - chord.second_note\n",
    "        while x < 0:\n",
    "            x += 12\n",
    "        y = chord.fourth_note - chord.third_note\n",
    "        while y < 0:\n",
    "            y += 12\n",
    "        z = chord.first_note - chord.fourth_note\n",
    "        while z < 0:\n",
    "            z += 12\n",
    "        create_fourthnote_positions(w,x,y,z,id)"
   ]
  },
  {
   "cell_type": "raw",
   "metadata": {},
   "source": []
  },
  {
   "cell_type": "code",
   "execution_count": 27,
   "metadata": {},
   "outputs": [
    {
     "name": "stdout",
     "output_type": "stream",
     "text": [
      "11\n",
      "8\n",
      "9\n",
      "8\n"
     ]
    }
   ],
   "source": [
    "create_fourthnote_inversions()"
   ]
  },
  {
   "cell_type": "code",
   "execution_count": 29,
   "metadata": {},
   "outputs": [],
   "source": [
    "chord = ChordNotes.objects.get(id=1)"
   ]
  },
  {
   "cell_type": "code",
   "execution_count": 32,
   "metadata": {},
   "outputs": [
    {
     "name": "stdout",
     "output_type": "stream",
     "text": [
      "None\n"
     ]
    }
   ],
   "source": [
    "print(chord.fifth_note)"
   ]
  },
  {
   "cell_type": "code",
   "execution_count": 37,
   "metadata": {},
   "outputs": [
    {
     "name": "stdout",
     "output_type": "stream",
     "text": [
      "True\n"
     ]
    }
   ],
   "source": [
    "if not None in (chord.first_note, chord.second_note, chord.third_note, chord.fourth_note) and chord.fifth_note is None:\n",
    "    print('True')\n",
    "else:\n",
    "    print('NOT')"
   ]
  },
  {
   "cell_type": "code",
   "execution_count": null,
   "metadata": {},
   "outputs": [],
   "source": []
  }
 ],
 "metadata": {
  "kernelspec": {
   "display_name": "Django Shell-Plus",
   "language": "python",
   "name": "django_extensions"
  },
  "language_info": {
   "codemirror_mode": {
    "name": "ipython",
    "version": 3
   },
   "file_extension": ".py",
   "mimetype": "text/x-python",
   "name": "python",
   "nbconvert_exporter": "python",
   "pygments_lexer": "ipython3",
   "version": "3.7.3"
  }
 },
 "nbformat": 4,
 "nbformat_minor": 2
}
