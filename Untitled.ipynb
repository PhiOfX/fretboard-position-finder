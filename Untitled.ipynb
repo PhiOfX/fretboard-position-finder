{
 "cells": [
  {
   "cell_type": "markdown",
   "metadata": {},
   "source": []
  },
  {
   "cell_type": "code",
   "execution_count": 1,
   "metadata": {},
   "outputs": [],
   "source": [
    "from positionfinder.models import Notes\n",
    "from positionfinder.positions import NotesPosition\n",
    "from positionfinder.template_notes import NOTES, NOTES_SHARP, TENSIONS, INVERSIONS, SHARP_NOTES\n",
    "from positionfinder.template_notes import STRING_NOTE_OPTIONS\n",
    "from positionfinder.get_position import get_notes_position\n",
    "import numpy\n",
    "import json\n",
    "import pprint\n",
    "\n"
   ]
  },
  {
   "cell_type": "code",
   "execution_count": 29,
   "metadata": {},
   "outputs": [],
   "source": [
    "def get_scale_position_dict(scale_name, root_note_id, root_pitch, tonal_root, selected_root_name):\n",
    "\n",
    "    scale_note = Notes.objects.get(note_name=scale_name)\n",
    "    scale_notes_position = NotesPosition.objects.filter(notes_name_id=scale_note.id)\n",
    "\n",
    "    INVERSION_DICT = {}\n",
    "    POSITION_DICT = {}\n",
    "\n",
    "    SCALE_NOTES = [scale_note.first_note, scale_note.second_note,\n",
    "                   scale_note.third_note, scale_note.fourth_note,\n",
    "                   scale_note.fifth_note, scale_note.sixth_note,\n",
    "                   scale_note.seventh_note]\n",
    "    \n",
    "    NOTES_LIST = []\n",
    "    for x in SCALE_NOTES:\n",
    "        if x is not None:\n",
    "            NOTES_LIST.append(NOTES[x])\n",
    "    \n",
    "    available_positions = NotesPosition.objects.filter(notes_name_id=scale_note.id)\n",
    "    # First Create All_Notes_Position\n",
    "    STRING_NOTE_OPTION_STRING = {}\n",
    "    TONE_NOTE_OPTION_DICT = {} \n",
    "    \n",
    "    for key in STRING_NOTE_OPTIONS:\n",
    "        TONE_DICT = []\n",
    "        TENSION_DICT = []\n",
    "        TONE_NOTE_OPTION_DICT = {}\n",
    "        TENSION_OPTION_DICT = {}\n",
    "        y = 0\n",
    "        for x in NOTES_LIST:\n",
    "            index = SCALE_NOTES[y]\n",
    "            TONE_DICT.append(STRING_NOTE_OPTIONS[key][0][x][0]['tone'][0])\n",
    "            TENSION_DICT.append(TENSIONS[index])\n",
    "            TENSION_OPTION_DICT['tensions'] = TENSION_DICT\n",
    "            try:\n",
    "                TONE_DICT.append(STRING_NOTE_OPTIONS[key][0][x][0]['tone'][1])\n",
    "                TONE_NOTE_OPTION_DICT['tones'] = TONE_DICT\n",
    "            except IndexError:\n",
    "                k = False\n",
    "            MULTIPLE_DICT = [ TONE_NOTE_OPTION_DICT, TENSION_OPTION_DICT ]\n",
    "            y += 1\n",
    "        STRING_NOTE_OPTION_STRING[key] = MULTIPLE_DICT\n",
    "        \n",
    "    POSITION_DICT['0'] = STRING_NOTE_OPTION_STRING\n",
    "    \n",
    "    # Loop through every available position\n",
    "    for position in available_positions:\n",
    "        STRING_NOTE_OPTION_STRING = {}\n",
    "        for key in STRING_NOTE_OPTIONS:\n",
    "            TONE_DICT = []\n",
    "            TENSION_DICT = []\n",
    "            TONE_NOTE_OPTION_DICT = {}\n",
    "            TENSION_OPTION_DICT = {}\n",
    "            y = 0\n",
    "            for x in NOTES_LIST:\n",
    "                index = SCALE_NOTES[y]\n",
    "                position_loop_dict = get_notes_position(position.id, root_note_id)\n",
    "                check_position_one = STRING_NOTE_OPTIONS[key][0][x][0]['fret'][0]\n",
    "                try:\n",
    "                    check_position_two = STRING_NOTE_OPTIONS[key][0][x][0]['fret'][1]\n",
    "                except IndexError:\n",
    "                    check_position_two = False\n",
    "                if check_position_one in position_loop_dict:\n",
    "                    TONE_DICT.append(STRING_NOTE_OPTIONS[key][0][x][0]['tone'][0])\n",
    "                    TONE_NOTE_OPTION_DICT['tones'] = TONE_DICT\n",
    "                    TENSION_DICT.append(TENSIONS[index])\n",
    "                    TENSION_OPTION_DICT['tensions'] = TENSION_DICT\n",
    "                    MULTIPLE_DICT = [ TONE_NOTE_OPTION_DICT, TENSION_OPTION_DICT ]\n",
    "                    y += 1\n",
    "                    STRING_NOTE_OPTION_STRING[key] = MULTIPLE_DICT\n",
    "                if check_position_two in position_loop_dict:\n",
    "                    TONE_DICT.append(STRING_NOTE_OPTIONS[key][0][x][0]['tone'][1])\n",
    "                    TONE_NOTE_OPTION_DICT['tones'] = TONE_DICT\n",
    "                    TENSION_DICT.append(TENSIONS[index])\n",
    "                    TENSION_OPTION_DICT['tensions'] = TENSION_DICT\n",
    "                    MULTIPLE_DICT = [ TONE_NOTE_OPTION_DICT, TENSION_OPTION_DICT ]\n",
    "                    y += 1\n",
    "                    STRING_NOTE_OPTION_STRING[key] = MULTIPLE_DICT\n",
    "                POSITION_DICT[str(position.position_order)] = STRING_NOTE_OPTION_STRING\n",
    "    return POSITION_DICT"
   ]
  },
  {
   "cell_type": "code",
   "execution_count": 28,
   "metadata": {},
   "outputs": [
    {
     "name": "stdout",
     "output_type": "stream",
     "text": [
      "['c', 'd', 'e', 'f', 'g', 'a', 'b']\n"
     ]
    },
    {
     "data": {
      "text/plain": [
       "{'0': {'eString': [{'tones': ['c3',\n",
       "     'd3',\n",
       "     'e3',\n",
       "     'f2',\n",
       "     'f3',\n",
       "     'g2',\n",
       "     'g3',\n",
       "     'a2',\n",
       "     'a3',\n",
       "     'b2']},\n",
       "   {'tensions': ['R', '9', '3', '11', '5', '13', '7']}],\n",
       "  'bString': [{'tones': ['c2',\n",
       "     'c3',\n",
       "     'd2',\n",
       "     'd3',\n",
       "     'e2',\n",
       "     'e3',\n",
       "     'f2',\n",
       "     'g2',\n",
       "     'a2',\n",
       "     'b2']},\n",
       "   {'tensions': ['R', '9', '3', '11', '5', '13', '7']}],\n",
       "  'gString': [{'tones': ['c2',\n",
       "     'c3',\n",
       "     'd2',\n",
       "     'e2',\n",
       "     'f2',\n",
       "     'g2',\n",
       "     'a1',\n",
       "     'a2',\n",
       "     'b1',\n",
       "     'b2']},\n",
       "   {'tensions': ['R', '9', '3', '11', '5', '13', '7']}],\n",
       "  'dString': [{'tones': ['c2',\n",
       "     'd2',\n",
       "     'e1',\n",
       "     'e2',\n",
       "     'f1',\n",
       "     'f2',\n",
       "     'g1',\n",
       "     'g2',\n",
       "     'a1',\n",
       "     'b1']},\n",
       "   {'tensions': ['R', '9', '3', '11', '5', '13', '7']}],\n",
       "  'AString': [{'tones': ['c1',\n",
       "     'c2',\n",
       "     'd1',\n",
       "     'd2',\n",
       "     'e1',\n",
       "     'f1',\n",
       "     'g1',\n",
       "     'a1',\n",
       "     'b0',\n",
       "     'b1']},\n",
       "   {'tensions': ['R', '9', '3', '11', '5', '13', '7']}],\n",
       "  'ELowString': [{'tones': ['c1',\n",
       "     'd1',\n",
       "     'e1',\n",
       "     'f0',\n",
       "     'f1',\n",
       "     'g0',\n",
       "     'g1',\n",
       "     'a0',\n",
       "     'a1',\n",
       "     'b0']},\n",
       "   {'tensions': ['R', '9', '3', '11', '5', '13', '7']}]},\n",
       " '1': {'eString': [{'tones': ['g2', 'a2', 'b2']},\n",
       "   {'tensions': ['R', '9', '3']}],\n",
       "  'bString': [{'tones': ['d2', 'e2', 'f2']}, {'tensions': ['R', '9', '3']}],\n",
       "  'gString': [{'tones': ['c2', 'd2', 'b1']}, {'tensions': ['R', '9', '3']}],\n",
       "  'dString': [{'tones': ['f1', 'g1', 'a1']}, {'tensions': ['R', '9', '3']}],\n",
       "  'AString': [{'tones': ['c1', 'd1', 'e1']}, {'tensions': ['R', '9', '3']}],\n",
       "  'ELowString': [{'tones': ['g0', 'a0', 'b0']},\n",
       "   {'tensions': ['R', '9', '3']}]},\n",
       " '2': {'eString': [{'tones': ['c3', 'a2', 'b2']},\n",
       "   {'tensions': ['R', '9', '3']}],\n",
       "  'bString': [{'tones': ['e2', 'f2', 'g2']}, {'tensions': ['R', '9', '3']}],\n",
       "  'gString': [{'tones': ['c2', 'd2', 'b1']}, {'tensions': ['R', '9', '3']}],\n",
       "  'dString': [{'tones': ['g1', 'a1']}, {'tensions': ['R', '9']}],\n",
       "  'AString': [{'tones': ['d1', 'e1', 'f1']}, {'tensions': ['R', '9', '3']}],\n",
       "  'ELowString': [{'tones': ['c1', 'a0', 'b0']},\n",
       "   {'tensions': ['R', '9', '3']}]},\n",
       " '3': {'eString': [{'tones': ['c3', 'a2', 'b2']},\n",
       "   {'tensions': ['R', '9', '3']}],\n",
       "  'bString': [{'tones': ['e2', 'f2', 'g2']}, {'tensions': ['R', '9', '3']}],\n",
       "  'gString': [{'tones': ['c2', 'd2', 'e2']}, {'tensions': ['R', '9', '3']}],\n",
       "  'dString': [{'tones': ['g1', 'a1', 'b1']}, {'tensions': ['R', '9', '3']}],\n",
       "  'AString': [{'tones': ['d1', 'e1', 'f1']}, {'tensions': ['R', '9', '3']}],\n",
       "  'ELowString': [{'tones': ['c1', 'a0', 'b0']},\n",
       "   {'tensions': ['R', '9', '3']}]},\n",
       " '4': {'eString': [{'tones': ['c3', 'd3']}, {'tensions': ['R', '9']}],\n",
       "  'bString': [{'tones': ['g2', 'a2']}, {'tensions': ['R', '9']}],\n",
       "  'gString': [{'tones': ['e2', 'f2']}, {'tensions': ['R', '9']}],\n",
       "  'dString': [{'tones': ['c2', 'b1']}, {'tensions': ['R', '9']}],\n",
       "  'AString': [{'tones': ['f1', 'g1']}, {'tensions': ['R', '9']}],\n",
       "  'ELowString': [{'tones': ['c1', 'd1']}, {'tensions': ['R', '9']}]},\n",
       " '5': {'eString': [{'tones': ['d3', 'e3', 'f3']},\n",
       "   {'tensions': ['R', '9', '3']}],\n",
       "  'bString': [{'tones': ['c3', 'a2', 'b2']}, {'tensions': ['R', '9', '3']}],\n",
       "  'gString': [{'tones': ['e2', 'f2', 'g2']}, {'tensions': ['R', '9', '3']}],\n",
       "  'dString': [{'tones': ['c2', 'd2', 'b1']}, {'tensions': ['R', '9', '3']}],\n",
       "  'AString': [{'tones': ['g1', 'a1']}, {'tensions': ['R', '9']}],\n",
       "  'ELowString': [{'tones': ['d1', 'e1', 'f1']},\n",
       "   {'tensions': ['R', '9', '3']}]},\n",
       " '6': {'eString': [{'tones': ['f3', 'g3']}, {'tensions': ['R', '9']}],\n",
       "  'bString': [{'tones': ['c3', 'd3']}, {'tensions': ['R', '9']}],\n",
       "  'gString': [{'tones': ['a2', 'b2']}, {'tensions': ['R', '9']}],\n",
       "  'dString': [{'tones': ['e2', 'f2']}, {'tensions': ['R', '9']}],\n",
       "  'AString': [{'tones': ['c2', 'b1']}, {'tensions': ['R', '9']}],\n",
       "  'ELowString': [{'tones': ['f1', 'g1']}, {'tensions': ['R', '9']}]}}"
      ]
     },
     "execution_count": 28,
     "metadata": {},
     "output_type": "execute_result"
    }
   ],
   "source": [
    "get_scale_position_dict('Major',1, 0, 0, 'C')"
   ]
  },
  {
   "cell_type": "code",
   "execution_count": 32,
   "metadata": {},
   "outputs": [
    {
     "data": {
      "text/plain": [
       "'c3'"
      ]
     },
     "execution_count": 32,
     "metadata": {},
     "output_type": "execute_result"
    }
   ],
   "source": [
    "STRING_NOTE_OPTIONS['eString'][0]['c'][0]['tone'][0]"
   ]
  },
  {
   "cell_type": "code",
   "execution_count": 21,
   "metadata": {},
   "outputs": [
    {
     "name": "stdout",
     "output_type": "stream",
     "text": [
      "{'eString': [{'tones': ['c3', 'd3', 'e3', 'f2', 'f3', 'g2', 'g3', 'a2', 'a3']}, {'tensions': ['R', '9', '3', '11', '5', '13']}], 'bString': [{'tones': ['c2', 'c3', 'd2', 'd3', 'e2', 'e3', 'f2', 'g2', 'a2']}, {'tensions': ['R', '9', '3', '11', '5', '13']}], 'gString': [{'tones': ['c2', 'c3', 'd2', 'e2', 'f2', 'g2', 'a1', 'a2']}, {'tensions': ['R', '9', '3', '11', '5', '13']}], 'dString': [{'tones': ['c2', 'd2', 'e1', 'e2', 'f1', 'f2', 'g1', 'g2', 'a1']}, {'tensions': ['R', '9', '3', '11', '5', '13']}], 'AString': [{'tones': ['c1', 'c2', 'd1', 'd2', 'e1', 'f1', 'g1', 'a1']}, {'tensions': ['R', '9', '3', '11', '5', '13']}], 'ELowString': [{'tones': ['c1', 'd1', 'e1', 'f0', 'f1', 'g0', 'g1', 'a0', 'a1']}, {'tensions': ['R', '9', '3', '11', '5', '13']}]}\n"
     ]
    }
   ],
   "source": [
    "NOTES_LIST = ['c', 'd', 'e', 'f', 'g', 'a']\n",
    "SCALE_NOTES = [0, 2, 4, 5, 7, 9]\n",
    "STRING_NOTE_OPTION_STRING = {}\n",
    "TONE_NOTE_OPTION_DICT = {}\n",
    "INVERSION_DICT = {}\n",
    "POSITION_DICT = {}\n",
    "\n",
    "for key in STRING_NOTE_OPTIONS:\n",
    "    TONE_DICT = []\n",
    "    TENSION_DICT = []\n",
    "    TONE_NOTE_OPTION_DICT = {}\n",
    "    TENSION_OPTION_DICT = {}\n",
    "    y = 0\n",
    "    for x in NOTES_LIST:\n",
    "        index = SCALE_NOTES[y]\n",
    "        TONE_DICT.append(STRING_NOTE_OPTIONS[key][0][x][0]['tone'][0])\n",
    "        TENSION_DICT.append(TENSIONS[index])\n",
    "        TENSION_OPTION_DICT['tensions'] = TENSION_DICT\n",
    "        try:\n",
    "            TONE_DICT.append(STRING_NOTE_OPTIONS[key][0][x][0]['tone'][1])\n",
    "            TONE_NOTE_OPTION_DICT['tones'] = TONE_DICT\n",
    "        except IndexError:\n",
    "            k = False\n",
    "        MULTIPLE_DICT = [ TONE_NOTE_OPTION_DICT, TENSION_OPTION_DICT ]\n",
    "        y += 1\n",
    "    STRING_NOTE_OPTION_STRING[key] = MULTIPLE_DICT\n",
    "\n",
    "print(STRING_NOTE_OPTION_STRING)"
   ]
  },
  {
   "cell_type": "code",
   "execution_count": 16,
   "metadata": {},
   "outputs": [
    {
     "name": "stdout",
     "output_type": "stream",
     "text": [
      "{'0': {'eString': [{'tones': ['c3', 'd3', 'e3', 'f2', 'g2', 'a2']}, {'tensions': ['R', '9', '3', '11', '5', '13']}], 'bString': [{'tones': ['c2', 'd2', 'e2', 'f2', 'g2', 'a2']}, {'tensions': ['R', '9', '3', '11', '5', '13']}], 'gString': [{'tones': ['c2', 'd2', 'e2', 'f2', 'g2', 'a1']}, {'tensions': ['R', '9', '3', '11', '5', '13']}], 'dString': [{'tones': ['c2', 'd2', 'e1', 'f1', 'g1', 'a1']}, {'tensions': ['R', '9', '3', '11', '5', '13']}], 'AString': [{'tones': ['c1', 'd1', 'e1', 'f1', 'g1', 'a1']}, {'tensions': ['R', '9', '3', '11', '5', '13']}], 'ELowString': [{'tones': ['c1', 'd1', 'e1', 'f0', 'g0', 'a0']}, {'tensions': ['R', '9', '3', '11', '5', '13']}]}}\n"
     ]
    }
   ],
   "source": [
    "STRING_NOTE_OPTION_STRING = {}\n",
    "TONE_NOTE_OPTION_DICT = {} \n",
    "NOTES_LIST = ['c', 'd', 'e', 'f', 'g', 'a']\n",
    "SCALE_NOTES = [0, 2, 4, 5, 7, 9]\n",
    "STRING_NOTE_OPTION_STRING = {}\n",
    "TONE_NOTE_OPTION_DICT = {}\n",
    "INVERSION_DICT = {}\n",
    "POSITION_DICT = {}\n",
    "\n",
    "for key in STRING_NOTE_OPTIONS:\n",
    "    TONE_DICT = []\n",
    "    TENSION_DICT = []\n",
    "    TONE_NOTE_OPTION_DICT = {}\n",
    "    TENSION_OPTION_DICT = {}\n",
    "    y = 0\n",
    "    for x in NOTES_LIST:\n",
    "        index = SCALE_NOTES[y]\n",
    "        TONE_DICT.append(STRING_NOTE_OPTIONS[key][0][x][0]['tone'][0])\n",
    "        TONE_NOTE_OPTION_DICT['tones'] = TONE_DICT\n",
    "        TENSION_DICT.append(TENSIONS[index])\n",
    "        TENSION_OPTION_DICT['tensions'] = TENSION_DICT\n",
    "        MULTIPLE_DICT = [ TONE_NOTE_OPTION_DICT, TENSION_OPTION_DICT ]\n",
    "        y += 1\n",
    "    STRING_NOTE_OPTION_STRING[key] = MULTIPLE_DICT\n",
    "POSITION_DICT['0'] = STRING_NOTE_OPTION_STRING\n",
    "print(POSITION_DICT)"
   ]
  },
  {
   "cell_type": "code",
   "execution_count": 6,
   "metadata": {},
   "outputs": [
    {
     "name": "stdout",
     "output_type": "stream",
     "text": [
      "[3, 15]\n"
     ]
    }
   ],
   "source": [
    "x = 3\n",
    "x = str(x)\n",
    "check = STRING_NOTE_OPTIONS['bString'][0]['d'][0]['fret']\n",
    "print(check)"
   ]
  },
  {
   "cell_type": "code",
   "execution_count": null,
   "metadata": {},
   "outputs": [],
   "source": []
  }
 ],
 "metadata": {
  "kernelspec": {
   "display_name": "Django Shell-Plus",
   "language": "python",
   "name": "django_extensions"
  },
  "language_info": {
   "codemirror_mode": {
    "name": "ipython",
    "version": 3
   },
   "file_extension": ".py",
   "mimetype": "text/x-python",
   "name": "python",
   "nbconvert_exporter": "python",
   "pygments_lexer": "ipython3",
   "version": "3.7.3"
  }
 },
 "nbformat": 4,
 "nbformat_minor": 2
}
